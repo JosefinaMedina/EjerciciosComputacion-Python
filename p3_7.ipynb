{
 "cells": [
  {
   "cell_type": "code",
   "execution_count": 1,
   "metadata": {},
   "outputs": [],
   "source": [
    "import math\n",
    "import numpy as np"
   ]
  },
  {
   "cell_type": "code",
   "execution_count": 6,
   "metadata": {},
   "outputs": [
    {
     "name": "stdout",
     "output_type": "stream",
     "text": [
      "21\n"
     ]
    }
   ],
   "source": [
    "n1=int(input(\"Primer numero: \"))\n",
    "n2=int(input(\"Segundo numero: \"))\n",
    "n3=int(input(\"Tercer numero: \"))\n",
    "n4=int(input(\"Cuarto numero: \"))\n",
    "\n",
    "lista=[n1*n2,n1*n3,n1*n4,n2*n3,n2*n4,n3*n4]\n",
    "print(max(lista))\n",
    "        \n"
   ]
  },
  {
   "cell_type": "code",
   "execution_count": null,
   "metadata": {},
   "outputs": [],
   "source": [
    "lista=[]\n",
    "n=int(input(\"Cantidad de numeros que va a ingresar: \"))\n",
    "for i in range (0,n):\n",
    "    ele=int(input(\"Ingrese el numero: \"))\n",
    "    lista.append(ele)\n",
    "\n",
    "print (lista)\n",
    "lista1=[]\n",
    "for i in lista:\n",
    "    if i != i+1\n",
    "        ele1=(i*(i+1))\n",
    "        lista1.append(ele1)\n",
    "print(max(lista1))\n",
    "        "
   ]
  },
  {
   "cell_type": "code",
   "execution_count": null,
   "metadata": {},
   "outputs": [],
   "source": []
  }
 ],
 "metadata": {
  "kernelspec": {
   "display_name": "Python 3",
   "language": "python",
   "name": "python3"
  },
  "language_info": {
   "codemirror_mode": {
    "name": "ipython",
    "version": 3
   },
   "file_extension": ".py",
   "mimetype": "text/x-python",
   "name": "python",
   "nbconvert_exporter": "python",
   "pygments_lexer": "ipython3",
   "version": "3.6.5"
  }
 },
 "nbformat": 4,
 "nbformat_minor": 2
}
