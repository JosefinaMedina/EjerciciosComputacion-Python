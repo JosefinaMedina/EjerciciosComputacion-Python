{
 "cells": [
  {
   "cell_type": "code",
   "execution_count": 7,
   "metadata": {},
   "outputs": [
    {
     "name": "stdout",
     "output_type": "stream",
     "text": [
      "{'como': 1, 'estas': 3, 'hola': 2}\n"
     ]
    }
   ],
   "source": [
    "#Escribir una función que reciba una cadena y devuelva un diccionario con la\n",
    "#cantidad de apariciones de cada palabra en la cadena. Por ejemplo, si recibe \"si\n",
    "#no hace frío hace calor\" debe devolver: 'si': 1, 'no': 1, 'hace':\n",
    "#2, 'frío': 1, 'calor': 1\n",
    "\n",
    "frase=(input(\"Ingrese su frase: \"))\n",
    "lista=frase.split()\n",
    "d={k:lista.count(k) for k in list(set(lista))}\n",
    "print(d)"
   ]
  },
  {
   "cell_type": "code",
   "execution_count": 13,
   "metadata": {},
   "outputs": [
    {
     "name": "stdout",
     "output_type": "stream",
     "text": [
      "{'o': 1, 'a': 4, 'c': 2, 'n': 1, 'b': 1, 'p': 1}\n"
     ]
    }
   ],
   "source": [
    "#Escribir una función que cuente la cantidad de apariciones de cada carácter en\n",
    "#una cadena de texto y los devuelva en un diccionario.\n",
    "palabra=(input(\"Ingrese su palabra: \"))\n",
    "separa=list(palabra)\n",
    "d={k:separa.count(k) for k in list(set(separa))}\n",
    "print(d)"
   ]
  },
  {
   "cell_type": "code",
   "execution_count": 4,
   "metadata": {},
   "outputs": [
    {
     "name": "stdout",
     "output_type": "stream",
     "text": [
      "[9, 5, 8, 5, 7, 7]\n",
      "{8: 1, 9: 1, 5: 2, 7: 2}\n"
     ]
    }
   ],
   "source": [
    "#Escribir una función que reciba una cantidad de iteraciones de una tirada de 2\n",
    "#dados a realizar y devuelva la cantidad de veces que se observa cada valor de la\n",
    "#suma de los dos dados. Nota: utilizar el módulo random para obtener tiradas\n",
    "#aleatorias.\n",
    "import random\n",
    "lista=[1,2,3,4,5,6]\n",
    "n=int(input(\"Cantidad de veces que se tiran los dados: \"))\n",
    "lista1=[]\n",
    "\n",
    "i=0\n",
    "while i<n:\n",
    "    numero1=random.choice(lista)\n",
    "    numero2=random.choice(lista)\n",
    "    resultado=numero1+numero2\n",
    "    lista1.append(resultado)\n",
    "    i=i+1\n",
    "    \n",
    "d={k:lista1.count(k) for k in list(set(lista1))}\n",
    "print (d)"
   ]
  },
  {
   "cell_type": "code",
   "execution_count": null,
   "metadata": {},
   "outputs": [],
   "source": []
  }
 ],
 "metadata": {
  "kernelspec": {
   "display_name": "Python 3",
   "language": "python",
   "name": "python3"
  },
  "language_info": {
   "codemirror_mode": {
    "name": "ipython",
    "version": 3
   },
   "file_extension": ".py",
   "mimetype": "text/x-python",
   "name": "python",
   "nbconvert_exporter": "python",
   "pygments_lexer": "ipython3",
   "version": "3.6.5"
  }
 },
 "nbformat": 4,
 "nbformat_minor": 2
}
