{
 "cells": [
  {
   "cell_type": "code",
   "execution_count": null,
   "metadata": {},
   "outputs": [],
   "source": [
    "import random\n",
    "lista=[1,2,3,4,5,6]\n",
    "n=int(input(\"Cantidad de veces que se tiran los dados: \"))\n",
    "lista1=[]\n",
    "i=0\n",
    "while i<n:\n",
    "    numero1=random.choice(lista)\n",
    "    numero2=random.choice(lista)\n",
    "    resultado=numero1+numero2\n",
    "    lista1.append(resultado)\n",
    "    i=i+1\n",
    "d={k:lista1.count(k) for k in list(set(lista1))}\n",
    "print(d)"
   ]
  },
  {
   "cell_type": "markdown",
   "metadata": {},
   "source": [
    "##### "
   ]
  }
 ],
 "metadata": {
  "kernelspec": {
   "display_name": "Python 3",
   "language": "python",
   "name": "python3"
  },
  "language_info": {
   "codemirror_mode": {
    "name": "ipython",
    "version": 3
   },
   "file_extension": ".py",
   "mimetype": "text/x-python",
   "name": "python",
   "nbconvert_exporter": "python",
   "pygments_lexer": "ipython3",
   "version": "3.6.5"
  }
 },
 "nbformat": 4,
 "nbformat_minor": 2
}
