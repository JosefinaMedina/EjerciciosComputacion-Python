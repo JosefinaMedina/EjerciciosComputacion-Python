{
 "cells": [
  {
   "cell_type": "code",
   "execution_count": 1,
   "metadata": {},
   "outputs": [],
   "source": [
    "import math"
   ]
  },
  {
   "cell_type": "code",
   "execution_count": 18,
   "metadata": {},
   "outputs": [
    {
     "name": "stdout",
     "output_type": "stream",
     "text": [
      "XXXXXX\n"
     ]
    }
   ],
   "source": [
    "p=(input(\"Ingrese su clave: \"))\n",
    "p1=p.replace(\"1\",\"X\")\n",
    "p2=p1.replace(\"2\",\"X\")\n",
    "p3=p2.replace(\"3\",\"X\")\n",
    "p4=p3.replace(\"4\",\"X\")\n",
    "p5=p4.replace(\"5\",\"X\")\n",
    "p6=p5.replace(\"6\",\"X\")\n",
    "p7=p6.replace(\"7\",\"X\")\n",
    "p8=p7.replace(\"8\",\"X\")\n",
    "p9=p8.replace(\"9\",\"X\")\n",
    "p0=p9.replace(\"0\",\"X\")\n",
    "print(p0)"
   ]
  },
  {
   "cell_type": "code",
   "execution_count": null,
   "metadata": {},
   "outputs": [],
   "source": [
    "##Inserte el caracter cada 3 dígitos en la cadena. Ej. 2552552550 y . debería devolver 255.255.255.0\n",
    "num=input(\"Ingrese el numero: \")\n",
    "i=0\n",
    "while i <=len(num):\n",
    "    for n-3:\n",
    "        add "
   ]
  },
  {
   "cell_type": "code",
   "execution_count": null,
   "metadata": {},
   "outputs": [],
   "source": []
  }
 ],
 "metadata": {
  "kernelspec": {
   "display_name": "Python 3",
   "language": "python",
   "name": "python3"
  },
  "language_info": {
   "codemirror_mode": {
    "name": "ipython",
    "version": 3
   },
   "file_extension": ".py",
   "mimetype": "text/x-python",
   "name": "python",
   "nbconvert_exporter": "python",
   "pygments_lexer": "ipython3",
   "version": "3.6.5"
  }
 },
 "nbformat": 4,
 "nbformat_minor": 2
}
