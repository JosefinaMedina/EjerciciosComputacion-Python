{
 "cells": [
  {
   "cell_type": "code",
   "execution_count": 1,
   "metadata": {},
   "outputs": [],
   "source": [
    "import math"
   ]
  },
  {
   "cell_type": "code",
   "execution_count": null,
   "metadata": {},
   "outputs": [],
   "source": [
    "#Escribir una función que reciba una lista de tuplas y que devuelva un diccionario en\n",
    "#donde las claves sean los primeros elementos de las tuplas y los valores una lista con\n",
    "#los segundos\n",
    "nombre=[]\n",
    "n=int(input(\"Cantidad de nombres que va a ingresar: \"))\n",
    "for i in range (0,n):\n",
    "    ele=int(input(\"Ingrese el nombre: \"))\n",
    "    nombre.append(ele)\n",
    "\n",
    "edad=[]\n",
    "m=int(input(\"Cantidad de edades que va a ingresar: \"))\n",
    "for i in range (0,m):\n",
    "    ele1=int(input(\"Ingrese la edad: \"))\n",
    "    edad.append(ele1)"
   ]
  },
  {
   "cell_type": "code",
   "execution_count": null,
   "metadata": {},
   "outputs": [],
   "source": [
    "n=[]\n",
    "n=int(input(\"Cantidad de nombres que va a ingresar: \"))\n",
    "for i in range (0,n):\n",
    "    ele=int(input(\"Ingrese el nombre: \"))\n",
    "    n.append(ele)\n",
    "\n",
    "e=[]\n",
    "m=int(input(\"Cantidad de edades que va a ingresar: \"))\n",
    "for i in range (0,m):\n",
    "    ele1=int(input(\"Ingrese la edad: \"))\n",
    "    e.append(ele1)\n",
    "\n",
    "a=[]\n",
    "p=int(input(\"Cantidad de nombres que va a ingresar: \"))\n",
    "for i in range (0,p):\n",
    "    ele2=int(input(\"Ingrese el nombre: \"))\n",
    "    a.append(ele2)\n",
    "\n",
    "\n",
    "diccionario={'nombre': n, 'apellido': a, 'edad':e}\n",
    "\n",
    "print(diccionario)"
   ]
  },
  {
   "cell_type": "code",
   "execution_count": null,
   "metadata": {},
   "outputs": [],
   "source": []
  }
 ],
 "metadata": {
  "kernelspec": {
   "display_name": "Python 3",
   "language": "python",
   "name": "python3"
  },
  "language_info": {
   "codemirror_mode": {
    "name": "ipython",
    "version": 3
   },
   "file_extension": ".py",
   "mimetype": "text/x-python",
   "name": "python",
   "nbconvert_exporter": "python",
   "pygments_lexer": "ipython3",
   "version": "3.6.5"
  }
 },
 "nbformat": 4,
 "nbformat_minor": 2
}
