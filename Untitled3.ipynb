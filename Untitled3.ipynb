{
 "cells": [
  {
   "cell_type": "code",
   "execution_count": null,
   "metadata": {},
   "outputs": [],
   "source": [
    "r=[]\n",
    "n=int(input(\"Cantidad de nombres que va a ingresar: \"))\n",
    "for i in range (0,n):\n",
    "    ele=(input(\"Ingrese el nombre: \"))\n",
    "    r.append(ele)\n",
    "\n",
    "e=[]\n",
    "m=int(input(\"Cantidad de edades que va a ingresar: \"))\n",
    "for i in range (0,m):\n",
    "    ele1=(input(\"Ingrese la edad: \"))\n",
    "    e.append(ele1)\n",
    "\n",
    "a=[]\n",
    "p=int(input(\"Cantidad de apellidos que va a ingresar: \"))\n",
    "for i in range (0,p):\n",
    "    ele2=(input(\"Ingrese el apellido: \"))\n",
    "    a.append(ele2)\n",
    "\n",
    "\n",
    "diccionario={'nombre': r, 'apellido': a, 'edad':e}\n",
    "\n",
    "print(diccionario)"
   ]
  },
  {
   "cell_type": "markdown",
   "metadata": {},
   "source": [
    "### "
   ]
  }
 ],
 "metadata": {
  "kernelspec": {
   "display_name": "Python 3",
   "language": "python",
   "name": "python3"
  },
  "language_info": {
   "codemirror_mode": {
    "name": "ipython",
    "version": 3
   },
   "file_extension": ".py",
   "mimetype": "text/x-python",
   "name": "python",
   "nbconvert_exporter": "python",
   "pygments_lexer": "ipython3",
   "version": "3.6.5"
  }
 },
 "nbformat": 4,
 "nbformat_minor": 2
}
