{
 "cells": [
  {
   "cell_type": "code",
   "execution_count": 9,
   "metadata": {},
   "outputs": [],
   "source": [
    "import math\n",
    "import numpy as np"
   ]
  },
  {
   "cell_type": "markdown",
   "metadata": {},
   "source": []
  },
  {
   "cell_type": "code",
   "execution_count": 10,
   "metadata": {},
   "outputs": [
    {
     "name": "stdout",
     "output_type": "stream",
     "text": [
      "2\n"
     ]
    }
   ],
   "source": [
    "v1=[]\n",
    "v2=[]\n",
    "n=int(input(\"Cantidad de numeros que va a ingresar: \"))\n",
    "for i in range (0,n):\n",
    "    ele1=int(input(\"Ingrese el numero para el primer vector: \"))\n",
    "    v1.append(ele1)\n",
    "for i in range (0,n):\n",
    "    ele2=int(input(\"Ingrese el numero para el primer vector: \"))\n",
    "    v2.append(ele2)\n",
    "print(np.dot(v1,v2))"
   ]
  },
  {
   "cell_type": "markdown",
   "metadata": {},
   "source": []
  },
  {
   "cell_type": "code",
   "execution_count": 13,
   "metadata": {},
   "outputs": [
    {
     "name": "stdout",
     "output_type": "stream",
     "text": [
      "Son ortogonales\n"
     ]
    }
   ],
   "source": [
    "v1=[]\n",
    "v2=[]\n",
    "n=int(input(\"Cantidad de numeros que va a ingresar: \"))\n",
    "for i in range (0,n):\n",
    "    ele1=int(input(\"Ingrese el numero para el primer vector: \"))\n",
    "    v1.append(ele1)\n",
    "for i in range (0,n):\n",
    "    ele2=int(input(\"Ingrese el numero para el primer vector: \"))\n",
    "    v2.append(ele2)\n",
    "if np.dot(v1,v2) == 0:\n",
    "    print(\"Son ortogonales\")\n",
    "if np.dot(v1,v2) != 0:\n",
    "    print(\"No son ortogonales\")\n"
   ]
  },
  {
   "cell_type": "code",
   "execution_count": null,
   "metadata": {},
   "outputs": [],
   "source": [
    "v1=[]\n",
    "v2=[]\n",
    "n=int(input(\"Cantidad de numeros que va a ingresar: \"))\n",
    "for i in range (0,n):\n",
    "    ele1=int(input(\"Ingrese el numero para el primer vector: \"))\n",
    "    v1.append(ele1)\n",
    "for i in range (0,n):\n",
    "    ele2=int(input(\"Ingrese el numero para el primer vector: \"))\n",
    "    v2.append(ele2)\n",
    "if np.cross(v1,v2) == 0:\n",
    "    print(\"Son paralelos\")\n",
    "if np.cross(v1,v2) != 0:\n",
    "    print(\"No son paralelos\")\n"
   ]
  },
  {
   "cell_type": "code",
   "execution_count": null,
   "metadata": {},
   "outputs": [],
   "source": [
    "n=int(input(\"Cantidad de numeros que va a ingresar: \"))\n",
    "v=[]\n",
    "for i in range (0,n):\n",
    "    ele1=int(input(\"Ingrese el numero para el primer vector: \"))\n",
    "    ele2=ele1*ele1\n",
    "    v.append(ele2)\n",
    "print((sum(i**2 for i in v))**(1/2))"
   ]
  },
  {
   "cell_type": "code",
   "execution_count": null,
   "metadata": {},
   "outputs": [],
   "source": []
  },
  {
   "cell_type": "markdown",
   "metadata": {},
   "source": []
  }
 ],
 "metadata": {
  "kernelspec": {
   "display_name": "Python 3",
   "language": "python",
   "name": "python3"
  },
  "language_info": {
   "codemirror_mode": {
    "name": "ipython",
    "version": 3
   },
   "file_extension": ".py",
   "mimetype": "text/x-python",
   "name": "python",
   "nbconvert_exporter": "python",
   "pygments_lexer": "ipython3",
   "version": "3.6.5"
  }
 },
 "nbformat": 4,
 "nbformat_minor": 2
}
